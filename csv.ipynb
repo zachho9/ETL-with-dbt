{
 "cells": [
  {
   "cell_type": "code",
   "execution_count": 1,
   "id": "c8c7e884",
   "metadata": {},
   "outputs": [],
   "source": [
    "import pandas as pd"
   ]
  },
  {
   "cell_type": "code",
   "execution_count": 4,
   "id": "54d97977",
   "metadata": {},
   "outputs": [
    {
     "name": "stdout",
     "output_type": "stream",
     "text": [
      "<class 'pandas.core.frame.DataFrame'>\n",
      "DatetimeIndex: 6443 entries, 2004-04-07 14:00:00 to 2004-12-31 23:00:00\n",
      "Data columns (total 11 columns):\n",
      " #   Column          Non-Null Count  Dtype  \n",
      "---  ------          --------------  -----  \n",
      " 0   Wind Spd        6443 non-null   float64\n",
      " 1   Wind Dir        6443 non-null   float64\n",
      " 2   Air_1           6443 non-null   float64\n",
      " 3   Air_2           6443 non-null   float64\n",
      " 4   Air P           6443 non-null   float64\n",
      " 5   Rad             6443 non-null   float64\n",
      " 6   Snow D_m        6443 non-null   float64\n",
      " 7   Wind Speed Max  6443 non-null   float64\n",
      " 8   Wind Dir Max    6443 non-null   float64\n",
      " 9   Dew             6443 non-null   float64\n",
      " 10  RH              6443 non-null   float64\n",
      "dtypes: float64(11)\n",
      "memory usage: 604.0 KB\n",
      "None\n"
     ]
    }
   ],
   "source": [
    "# Cleddau\n",
    "cleddau = pd.read_csv('data/Cleddau_2004.txt', sep='\\t')\n",
    "\n",
    "cleddau['Timestamp'] = pd.to_datetime(cleddau['Year'] * 1000 + cleddau['Day'], format='%Y%j') + \\\n",
    "                       pd.to_timedelta(cleddau['HourMin'].floordiv(100), unit='h') + \\\n",
    "                       pd.to_timedelta(cleddau['HourMin'] % 100, unit='m')\n",
    "cleddau.drop(['Year', 'Day', 'HourMin'], axis=1, inplace=True)\n",
    "cleddau.set_index('Timestamp', inplace=True)\n",
    "\n",
    "print(cleddau.info())\n",
    "\n",
    "cleddau.to_csv('data/Cleddau_2004.csv')"
   ]
  },
  {
   "cell_type": "code",
   "execution_count": 6,
   "id": "f9744a3b",
   "metadata": {},
   "outputs": [
    {
     "name": "stdout",
     "output_type": "stream",
     "text": [
      "<class 'pandas.core.frame.DataFrame'>\n",
      "DatetimeIndex: 7587 entries, 2004-02-19 14:00:00 to 2004-12-31 23:00:00\n",
      "Data columns (total 4 columns):\n",
      " #   Column      Non-Null Count  Dtype  \n",
      "---  ------      --------------  -----  \n",
      " 0   Air         7586 non-null   float64\n",
      " 1   Air Pess    7586 non-null   float64\n",
      " 2   Snow Depth  7586 non-null   float64\n",
      " 3   Precip      7586 non-null   float64\n",
      "dtypes: float64(4)\n",
      "memory usage: 296.4 KB\n",
      "None\n"
     ]
    }
   ],
   "source": [
    "# EastHomer\n",
    "easthomer = pd.read_csv('data/EastHomer_2004.txt', sep='\\t')\n",
    "\n",
    "easthomer['Timestamp'] = pd.to_datetime(easthomer['Year'] * 1000 + easthomer['Day'], format='%Y%j') + \\\n",
    "                         pd.to_timedelta(easthomer['HourMinute'].floordiv(100), unit='h') + \\\n",
    "                         pd.to_timedelta(easthomer['HourMinute'] % 100, unit='m')\n",
    "easthomer.drop(['a','Year', 'Day', 'HourMinute'], axis=1, inplace=True)\n",
    "easthomer.set_index('Timestamp', inplace=True)\n",
    "\n",
    "print(easthomer.info())\n",
    "\n",
    "easthomer.to_csv('data/EastHomer_2004.csv')"
   ]
  },
  {
   "cell_type": "code",
   "execution_count": 7,
   "id": "bef50d7a",
   "metadata": {},
   "outputs": [
    {
     "name": "stdout",
     "output_type": "stream",
     "text": [
      "<class 'pandas.core.frame.DataFrame'>\n",
      "DatetimeIndex: 7825 entries, 2004-01-29 18:00:00 to 2004-12-31 23:00:00\n",
      "Data columns (total 11 columns):\n",
      " #   Column      Non-Null Count  Dtype  \n",
      "---  ------      --------------  -----  \n",
      " 0   Wind Spd    7825 non-null   float64\n",
      " 1   Wind Dir    7825 non-null   float64\n",
      " 2   Air         7825 non-null   float64\n",
      " 3   Rad         7825 non-null   float64\n",
      " 4   Snow Depth  7825 non-null   float64\n",
      " 5   Wind Max    7825 non-null   float64\n",
      " 6   Rain        7825 non-null   float64\n",
      " 7   WS_60Av     7825 non-null   float64\n",
      " 8   WD_60Av     7825 non-null   float64\n",
      " 9   Air 2       7825 non-null   float64\n",
      " 10  Air 60Av    7825 non-null   float64\n",
      "dtypes: float64(11)\n",
      "memory usage: 733.6 KB\n",
      "None\n"
     ]
    }
   ],
   "source": [
    "# MountBelle\n",
    "mountbelle = pd.read_csv('data/MountBelle_2004.txt', sep='\\t')\n",
    "\n",
    "mountbelle['Timestamp'] = pd.to_datetime(mountbelle['Year'] * 1000 + mountbelle['Day'], format='%Y%j') + \\\n",
    "                          pd.to_timedelta(mountbelle['Hour/min'].floordiv(100), unit='h') + \\\n",
    "                          pd.to_timedelta(mountbelle['Hour/min'] % 100, unit='m')\n",
    "mountbelle.drop(['Unnamed: 0','Year', 'Day', 'Hour/min'], axis=1, inplace=True)\n",
    "mountbelle.set_index('Timestamp', inplace=True)\n",
    "\n",
    "print(mountbelle.info())\n",
    "\n",
    "mountbelle.to_csv('data/MountBelle_2004.csv')"
   ]
  }
 ],
 "metadata": {
  "kernelspec": {
   "display_name": "etl",
   "language": "python",
   "name": "python3"
  },
  "language_info": {
   "codemirror_mode": {
    "name": "ipython",
    "version": 3
   },
   "file_extension": ".py",
   "mimetype": "text/x-python",
   "name": "python",
   "nbconvert_exporter": "python",
   "pygments_lexer": "ipython3",
   "version": "3.13.5"
  }
 },
 "nbformat": 4,
 "nbformat_minor": 5
}
